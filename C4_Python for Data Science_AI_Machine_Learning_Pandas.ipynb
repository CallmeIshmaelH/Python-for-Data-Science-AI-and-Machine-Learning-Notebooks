{
 "metadata": {
  "language_info": {
   "codemirror_mode": {
    "name": "ipython",
    "version": 3
   },
   "file_extension": ".py",
   "mimetype": "text/x-python",
   "name": "python",
   "nbconvert_exporter": "python",
   "pygments_lexer": "ipython3",
   "version": "3.8.2-final"
  },
  "orig_nbformat": 2,
  "kernelspec": {
   "name": "python3",
   "display_name": "Python 3.8.2 64-bit",
   "metadata": {
    "interpreter": {
     "hash": "f82728fea096ee479ae21e03694e89a27c1b250b5843b7f3bed7f3904f0c4af3"
    }
   }
  }
 },
 "nbformat": 4,
 "nbformat_minor": 2,
 "cells": [
  {
   "source": [
    "#PYTHON FOR DATA SCIENCE, AI and MACHINE LEARNING#\n",
    "\n",
    "pandas is a library for the Python programming language used for data science. pandas is largely a math and statistics library that offers a great deal of functionality.\n",
    "To use pandas in Python we must first import the library.\n",
    "Typing >import pandas all the time gets tedious so by convention, import calls for usually import it under \n",
    "a shorter pseudonym \"pd\" as seen below."
   ],
   "cell_type": "markdown",
   "metadata": {}
  },
  {
   "cell_type": "code",
   "execution_count": 1,
   "metadata": {},
   "outputs": [],
   "source": [
    "import pandas as pd # imports the pandas library under the pseudonym \"pd\"."
   ]
  },
  {
   "source": [
    "Now that we have imported the pandas library we have a number of groovy pre-made objects and classes available to us with a range of VERY swanky methods...methods we can use for extracting that sweet, sweet data. Using pandas we can do a lot of very convenient things using Python, for example opening csv files and accessing their information, creating dataframes for data analysis and more. Pandas is a pretty powerful library that offers quite a lot of functionality for data science.\n",
    "\n",
    "Some of the really groovy classes available in pandas include:\n",
    "    1) Series objects: Which are essentially a more flexible data array, based on the numpy data array object.\n",
    "    2) DataFrames: Which is pandas' way of representing data tables or structured data.\n",
    "\n",
    "At the very basic level, pandas objects can be thought of as enhanced versions of NumPy structured arrays in which the rows and columns are identified with labels rather than simple integer indices. For example:\n",
    "My_S1 = pd.Series([1,2,3,4,5])\n",
    "\n",
    "once you have created a Series object you can also use the associated methods to view its values or indices."
   ],
   "cell_type": "markdown",
   "metadata": {}
  },
  {
   "cell_type": "code",
   "execution_count": 12,
   "metadata": {},
   "outputs": [
    {
     "output_type": "stream",
     "name": "stdout",
     "text": [
      "0    0.89\n1    1.33\n2    2.71\n3    3.41\n4    4.67\ndtype: float64\nThe values of My_S1 = [0.89 1.33 2.71 3.41 4.67]\nThe index of My_S1 is RangeIndex(start=0, stop=5, step=1)\n"
     ]
    }
   ],
   "source": [
    "My_S1 = pd.Series([0.89,1.33,2.71,3.41,4.67]) #creates a pandas Series object from an array ([])or list [] object.\n",
    "print(My_S1)\n",
    "print(\"The values of My_S1 =\", My_S1.values)\n",
    "print(\"The index of My_S1 is\", My_S1.index)\n"
   ]
  },
  {
   "source": [
    "As you can see from the output above the Series object returns the objects stored in the array, alongside their respective indices. We can also call methods on the objects in a series using its attributes like values, index positions (just as we would for a regular python list). We can slice and select sequences of data from our series using the regular indexing syntax of series[0:...]to identify a range.\n",
    "\n",
    "\n",
    "\n",
    "We can then use these series to construct a table or DataFrame in pandas (more on that later).\n",
    "\n",
    "Another cool thing that Series objects can do is reassign definitions of the index. That is to say, while the Numpy Array has an implicitly defined integer index used to access the values, the Pandas Series has an explicitly defined index associated with the values.\n",
    "\n",
    "This explicit index definition gives the Series object additional capabilities. For example, the index need not be an integer, but can consist of values of any desired type. For example, if we wish, we can use strings as an index:\n",
    "This makes Seriesa bit more flexible and usable than Numpy Arrays. Having indices that correspond to a name, or given ID, can be quite useful for constructing data objects that have a LONG LIST OF VALUES IN THEM. For example if we think of a series or an array as representing an object, the value at index[0] might be that object's AGE, the next value at index[1] might be some other information about the object for example SEX, and so on and so forth until we have a full array or series that reflects some data about a given entity. With the Numpy Array we are stuck with integer indices 0,1,2,3,4,5... whereas with Series objects we can  give each index a name or more easily refereable title to call on when we need some information."
   ],
   "cell_type": "markdown",
   "metadata": {}
  },
  {
   "cell_type": "code",
   "execution_count": 20,
   "metadata": {},
   "outputs": [
    {
     "output_type": "stream",
     "name": "stdout",
     "text": [
      "ichi    1\nni      2\nsan     3\nyon     4\ngo      5\ndtype: int64\nThe values of My_S2 are = [1 2 3 4 5]\nThe index of My_S2 is Index(['ichi', 'ni', 'san', 'yon', 'go'], dtype='object')\nichi    1\nni      2\nsan     3\ndtype: int64\n"
     ]
    }
   ],
   "source": [
    "My_S2 = pd.Series([1, 2, 3, 4, 5], index = [\"ichi\",\"ni\", \"san\", \"yon\", \"go\"]) #creates a series object with labelled indices.  \n",
    "print(My_S2)\n",
    "print(\"The values of My_S2 are =\", My_S2.values)\n",
    "print(\"The index of My_S2 is\", My_S2.index)\n",
    "print(My_S2[\"ichi\":\"san\"])\n"
   ]
  },
  {
   "source": [
    "One way to look at the Pandas Series object is a bit like a specialization of a Python dictionary. A regular dictionary maps arbitrary keys to a set of arbitrary values (arbitrary meaning that the types of both keys/values can be literally anything you want), and a Series is a structure which maps typed keys to a set of typed values.\n",
    "This typing is important: just as the type-specific compiled code behind a NumPy array makes it more efficient than a Python list for certain operations, the type information of a Pandas Series makes it much more efficient than Python dictionaries for certain operations.\n",
    "\n",
    "What this also means is that we can construct a series directly from python dictionaries, simply by using the dictionary as the argument of >pd.Series(dictionary).\n"
   ],
   "cell_type": "markdown",
   "metadata": {}
  },
  {
   "cell_type": "code",
   "execution_count": 35,
   "metadata": {},
   "outputs": [
    {
     "output_type": "stream",
     "name": "stdout",
     "text": [
      "dict_values(['Roger', 'Lyra', 'Oxford', 'Pine Marten', 'Alethiometer'])\nBoy              Roger\nGirl              Lyra\nPlace           Oxford\nAnimal     Pine Marten\nThing     Alethiometer\ndtype: object\nOxford\nGirl              Lyra\nPlace           Oxford\nAnimal     Pine Marten\nThing     Alethiometer\ndtype: object\n"
     ]
    }
   ],
   "source": [
    "My_D1 = {\"Boy\":\"Roger\", \"Girl\":\"Lyra\", \"Place\":\"Oxford\", \"Animal\":\"Pine Marten\", \"Thing\":\"Alethiometer\"} #defines dictionary\n",
    "My_S3 = pd.Series(My_D1) #creates series from dictionary\n",
    "print(My_D1.values())\n",
    "print(My_S3)\n",
    "print(My_S3[\"Place\"])\n",
    "print(My_S3[\"Girl\":\"Thing\"]) # creates a slice from the series"
   ]
  },
  {
   "source": [
    "DataFrames are basically 2 dimensional variations of series. Where with a Series the index is mutable and can be named or titled, The Dataframe extends this capability to both indices by column and by row. In other words, we can think of a Dataframe as a sequence of aligned Series objects. Here, by \"aligned\" we mean that they share the same index. \n",
    "Look at the example below.\n"
   ],
   "cell_type": "markdown",
   "metadata": {}
  },
  {
   "cell_type": "code",
   "execution_count": 42,
   "metadata": {},
   "outputs": [
    {
     "output_type": "stream",
     "name": "stdout",
     "text": [
      "California    38332521\nTexas         26448193\nNew York      19651127\nFlorida       19552860\nIllinois      12882135\ndtype: int64 \n\nCalifornia    423967\nTexas         695662\nNew York      141297\nFlorida       170312\nIllinois      149995\ndtype: int64\n"
     ]
    }
   ],
   "source": [
    "area_pop ={'California': 38332521,'Texas': 26448193,'New York': 19651127,'Florida': 19552860,'Illinois': 12882135}\n",
    "pop = pd.Series(area_pop)\n",
    "print(pop, \"\\n\")\n",
    "area_dict = {'California': 423967, 'Texas': 695662, 'New York': 141297,\n",
    "             'Florida': 170312, 'Illinois': 149995} #constructs a dictionary of 5 states, and their areas.\n",
    "area = pd.Series(area_dict) #constructs a series using dictionary\n",
    "print(area)"
   ]
  },
  {
   "source": [
    "Now that we have two Series objects (pop and area) we can use a dictionary to construct a single two-dimensional object containing this information. This single two dimensional object will be our DataFrame.\n"
   ],
   "cell_type": "markdown",
   "metadata": {}
  },
  {
   "cell_type": "code",
   "execution_count": 44,
   "metadata": {},
   "outputs": [
    {
     "output_type": "execute_result",
     "data": {
      "text/plain": [
       "            population    area\n",
       "California    38332521  423967\n",
       "Texas         26448193  695662\n",
       "New York      19651127  141297\n",
       "Florida       19552860  170312\n",
       "Illinois      12882135  149995"
      ],
      "text/html": "<div>\n<style scoped>\n    .dataframe tbody tr th:only-of-type {\n        vertical-align: middle;\n    }\n\n    .dataframe tbody tr th {\n        vertical-align: top;\n    }\n\n    .dataframe thead th {\n        text-align: right;\n    }\n</style>\n<table border=\"1\" class=\"dataframe\">\n  <thead>\n    <tr style=\"text-align: right;\">\n      <th></th>\n      <th>population</th>\n      <th>area</th>\n    </tr>\n  </thead>\n  <tbody>\n    <tr>\n      <th>California</th>\n      <td>38332521</td>\n      <td>423967</td>\n    </tr>\n    <tr>\n      <th>Texas</th>\n      <td>26448193</td>\n      <td>695662</td>\n    </tr>\n    <tr>\n      <th>New York</th>\n      <td>19651127</td>\n      <td>141297</td>\n    </tr>\n    <tr>\n      <th>Florida</th>\n      <td>19552860</td>\n      <td>170312</td>\n    </tr>\n    <tr>\n      <th>Illinois</th>\n      <td>12882135</td>\n      <td>149995</td>\n    </tr>\n  </tbody>\n</table>\n</div>"
     },
     "metadata": {},
     "execution_count": 44
    }
   ],
   "source": [
    "states = pd.DataFrame({'population': pop,'area': area})\n",
    "states"
   ]
  },
  {
   "source": [
    "What we have done above is taken two series that share the same indices (the state names) and stacked them side by side, with appropriate titles to describe what values they represent. This means that the DataFrame object has a regular index object attribute AND another Index object attribute for the columns. This gives the data in our DataFrame two points of reference which we can use to locate and access data. These attributes can be accessed using either DataFrame.index or DataFrame.columns respectively. Using the index position we can get a running list of the series(the columns) and shared indices(rows) which make up the data frame.\n",
    "\n",
    "Similarly we access data stored in them through their respective index and column key/tit as you can see below.\n"
   ],
   "cell_type": "markdown",
   "metadata": {}
  },
  {
   "cell_type": "code",
   "execution_count": 61,
   "metadata": {},
   "outputs": [
    {
     "output_type": "stream",
     "name": "stdout",
     "text": [
      "The index of states are  Index(['California', 'Texas', 'New York', 'Florida', 'Illinois'], dtype='object')\nThe columns of states are Index(['population', 'area'], dtype='object')\nIndex(['California', 'Texas', 'New York', 'Florida', 'Illinois'], dtype='object') \n\n Index(['population', 'area'], dtype='object')\nCalifornia    38332521\nTexas         26448193\nNew York      19651127\nFlorida       19552860\nIllinois      12882135\nName: population, dtype: int64 \n\n California    423967\nTexas         695662\nNew York      141297\nFlorida       170312\nIllinois      149995\nName: area, dtype: int64\n"
     ]
    }
   ],
   "source": [
    "print(\"The index of states are \", states.index)\n",
    "print(\"The columns of states are\", states.columns)\n",
    "print(states.index[0:],\"\\n\\n\", states.columns[0:])\n",
    "print(states['population'],\"\\n\\n\", states['area'])"
   ]
  },
  {
   "source": [
    "A Pandas DataFrame can be constructed in a variety of ways. Here we'll give several examples.\n",
    "\n",
    "From a single Series object:\n",
    "A DataFrame is a collection of Series objects, and a single-column DataFrame can be constructed from a single Series using the syntax > pd.DataFrame(Series_name, columns = \"column_name\") where the column name will reflect whatever title you want to assign to the values by series index.\n",
    "\n",
    "From a list of dictionary objects:\n",
    "Any list of dictionaries can be made into a DataFrame. Even if some keys in the dictionary are missing, Pandas will fill them in with NaN (i.e., \"not a number\") values. We can use the syntax >pd.DataFrame([{'a': 1, 'b': 2}, {'b': 3, 'c': 4}]) and this will create a DataFrame where a, b and c are columns and the values associated with them are stored accordingly.\n",
    "\n",
    "From a dictionary of Series objects:\n",
    "As we saw before, a DataFrame can be constructed from a dictionary of Series objects as well. For this we can use the syntax >pd.DataFrame({\"series1title\" = series1, \"series2title\" = series2}) where we construct a dictionary using the each series with an appropriate title which defines what data the series represents\n",
    "\n",
    "From a two-dimensional NumPy array:\n",
    "Given a two-dimensional array of data, we can create a DataFrame with any specified column and index names. If omitted, an integer index will be used for each:\n",
    "\n",
    "From a NumPy Structured Array:\n",
    "A Pandas DataFrame operates much like a structured array, and can be created directly from one:"
   ],
   "cell_type": "markdown",
   "metadata": {}
  },
  {
   "cell_type": "code",
   "execution_count": null,
   "metadata": {},
   "outputs": [],
   "source": []
  },
  {
   "cell_type": "code",
   "execution_count": null,
   "metadata": {},
   "outputs": [],
   "source": []
  },
  {
   "cell_type": "code",
   "execution_count": null,
   "metadata": {},
   "outputs": [],
   "source": []
  },
  {
   "cell_type": "code",
   "execution_count": null,
   "metadata": {},
   "outputs": [],
   "source": []
  },
  {
   "source": [
    "##Opening Files in pandas##\n",
    "pandas is pretty rad in that it is usable with a wide format of structured data. NAturally it can open csv files, but it can also open json, sql, xls, and a bunch of other formats used for storing tabled data and structured data. The method for opening a particular file type is very simple.\n",
    "> variable = pd.read_fileextension(\"c://blahblahblah/blahblah/blah/filepath\")\n",
    "\n"
   ],
   "cell_type": "markdown",
   "metadata": {}
  },
  {
   "cell_type": "code",
   "execution_count": 67,
   "metadata": {},
   "outputs": [
    {
     "output_type": "execute_result",
     "data": {
      "text/plain": [
       "  Country or Area  Year    Value  Value Footnotes                  Unit\n",
       "0         Albania  2007  30964.0              NaN  million cubic metres\n",
       "1         Albania  2006  32380.0              NaN  million cubic metres\n",
       "2         Albania  2005  42840.0              NaN  million cubic metres\n",
       "3         Albania  2004  42787.0              NaN  million cubic metres\n",
       "4         Albania  2003  27893.0              NaN  million cubic metres"
      ],
      "text/html": "<div>\n<style scoped>\n    .dataframe tbody tr th:only-of-type {\n        vertical-align: middle;\n    }\n\n    .dataframe tbody tr th {\n        vertical-align: top;\n    }\n\n    .dataframe thead th {\n        text-align: right;\n    }\n</style>\n<table border=\"1\" class=\"dataframe\">\n  <thead>\n    <tr style=\"text-align: right;\">\n      <th></th>\n      <th>Country or Area</th>\n      <th>Year</th>\n      <th>Value</th>\n      <th>Value Footnotes</th>\n      <th>Unit</th>\n    </tr>\n  </thead>\n  <tbody>\n    <tr>\n      <th>0</th>\n      <td>Albania</td>\n      <td>2007</td>\n      <td>30964.0</td>\n      <td>NaN</td>\n      <td>million cubic metres</td>\n    </tr>\n    <tr>\n      <th>1</th>\n      <td>Albania</td>\n      <td>2006</td>\n      <td>32380.0</td>\n      <td>NaN</td>\n      <td>million cubic metres</td>\n    </tr>\n    <tr>\n      <th>2</th>\n      <td>Albania</td>\n      <td>2005</td>\n      <td>42840.0</td>\n      <td>NaN</td>\n      <td>million cubic metres</td>\n    </tr>\n    <tr>\n      <th>3</th>\n      <td>Albania</td>\n      <td>2004</td>\n      <td>42787.0</td>\n      <td>NaN</td>\n      <td>million cubic metres</td>\n    </tr>\n    <tr>\n      <th>4</th>\n      <td>Albania</td>\n      <td>2003</td>\n      <td>27893.0</td>\n      <td>NaN</td>\n      <td>million cubic metres</td>\n    </tr>\n  </tbody>\n</table>\n</div>"
     },
     "metadata": {},
     "execution_count": 67
    }
   ],
   "source": [
    "precipitation = pd.read_csv('C:/Users/Shael/Documents/IBM Data Science Professional Certificate Specialization/SAved Resources/precipitation.csv')\n",
    "precipitation.head()"
   ]
  },
  {
   "source": [
    "One very cool thing you can do with DataFrame objects is create new DataFrame objects out of their constituent Series. To do this we can assign a variable >NewFrame = DataFrame[[\"column1\",\"column2\",\"column3\"]]"
   ],
   "cell_type": "markdown",
   "metadata": {}
  },
  {
   "cell_type": "code",
   "execution_count": 69,
   "metadata": {},
   "outputs": [
    {
     "output_type": "execute_result",
     "data": {
      "text/plain": [
       "  Country or Area  Year    Value\n",
       "0         Albania  2007  30964.0\n",
       "1         Albania  2006  32380.0\n",
       "2         Albania  2005  42840.0\n",
       "3         Albania  2004  42787.0\n",
       "4         Albania  2003  27893.0"
      ],
      "text/html": "<div>\n<style scoped>\n    .dataframe tbody tr th:only-of-type {\n        vertical-align: middle;\n    }\n\n    .dataframe tbody tr th {\n        vertical-align: top;\n    }\n\n    .dataframe thead th {\n        text-align: right;\n    }\n</style>\n<table border=\"1\" class=\"dataframe\">\n  <thead>\n    <tr style=\"text-align: right;\">\n      <th></th>\n      <th>Country or Area</th>\n      <th>Year</th>\n      <th>Value</th>\n    </tr>\n  </thead>\n  <tbody>\n    <tr>\n      <th>0</th>\n      <td>Albania</td>\n      <td>2007</td>\n      <td>30964.0</td>\n    </tr>\n    <tr>\n      <th>1</th>\n      <td>Albania</td>\n      <td>2006</td>\n      <td>32380.0</td>\n    </tr>\n    <tr>\n      <th>2</th>\n      <td>Albania</td>\n      <td>2005</td>\n      <td>42840.0</td>\n    </tr>\n    <tr>\n      <th>3</th>\n      <td>Albania</td>\n      <td>2004</td>\n      <td>42787.0</td>\n    </tr>\n    <tr>\n      <th>4</th>\n      <td>Albania</td>\n      <td>2003</td>\n      <td>27893.0</td>\n    </tr>\n  </tbody>\n</table>\n</div>"
     },
     "metadata": {},
     "execution_count": 69
    }
   ],
   "source": [
    "PrecipDataFrame = precipitation[[\"Country or Area\",\"Year\",\"Value\"]] # creates a new Dataframe with selected columns\n",
    "PrecipDataFrame.head()"
   ]
  },
  {
   "source": [
    "Some of the really cool methods that pandas offer include the unique() method, which reports only the unique elements of a given column in a dataframe and ignores duplicates.\n",
    "the syntax is regular python syntax. > unique_vals = DataFrame[\"Columnname\"].unique()"
   ],
   "cell_type": "markdown",
   "metadata": {}
  },
  {
   "cell_type": "code",
   "execution_count": 70,
   "metadata": {},
   "outputs": [
    {
     "output_type": "stream",
     "name": "stdout",
     "text": [
      "Albania\nAlgeria\nAndorra\nAnguilla\nAntigua and Barbuda\nArmenia\nAzerbaijan\nBahrain\nBarbados\nBelarus\nBelgium\nBelize\nBenin\nBermuda\nBosnia and Herzegovina\nBotswana\nBritish Virgin Islands\nBrunei Darussalam\nCameroon\nCentral African Republic\nChile\nChina\nChina, Hong Kong SAR\nChina, Macao SAR\nColombia\nCote d'Ivoire\nCroatia\nCuba\nCyprus\nCzech Republic\nDenmark\nDominican Republic\nEcuador\nEgypt\nEstonia\nFinland\nFrance\nGambia\nGeorgia\nGermany\nGuinea\nHungary\nIndia\nIraq\nIsrael\nItaly\nJamaica\nJordan\nKazakhstan\nKuwait\nKyrgyzstan\nLatvia\nLebanon\nLithuania\nLuxembourg\nMadagascar\nMaldives\nMalta\nMarshall Islands\nMauritius\nMonaco\nMorocco\nNetherlands\nOman\nPanama\nParaguay\nPoland\nPortugal\nQatar\nRepublic of Moldova\nRomania\nSenegal\nSerbia\nSingapore\nSlovakia\nSlovenia\nSouth Africa\nSpain\nSri Lanka\nSweden\nSwitzerland\nSyrian Arab Republic\nThe Former Yugoslav Rep. of  Macedonia\nTogo\nTrinidad and Tobago\nTunisia\nTurkey\nUnited Kingdom\nVenezuela\nYemen\nZimbabwe\n"
     ]
    }
   ],
   "source": [
    "Countries = PrecipDataFrame[\"Country or Area\"].unique()\n",
    "for c in Countries:\n",
    "    print(c)"
   ]
  },
  {
   "source": [
    "We can also select specific rows on the basis of some common value stored in the columns.\n",
    "For example say we wanted to know create a DataFrame just for the year 2009, and exclude the other values.\n",
    "WE could in theory write a single line of code that would 1)select only those rows that feature a \"Year\" value equal to 2009 2)assign the selected values to a new variable as a DataFrame."
   ],
   "cell_type": "markdown",
   "metadata": {}
  },
  {
   "cell_type": "code",
   "execution_count": 73,
   "metadata": {},
   "outputs": [
    {
     "output_type": "stream",
     "name": "stdout",
     "text": [
      "    Country or Area  Year       Value  Value Footnotes                  Unit\n108        Barbados  1996  656.179993              NaN  million cubic metres\n109        Barbados  1995  573.190002              NaN  million cubic metres\n110        Barbados  1990  705.630005              NaN  million cubic metres\n"
     ]
    }
   ],
   "source": [
    "Precip2009 = PrecipDataFrame[PrecipDataFrame[\"Year\"]==2009] #creates a variable containing precipitation data for year 2009\n",
    "print(Precip2009.head())\n",
    "\n",
    "PrecipBarbados = precipitation[precipitation[\"Country or Area\"]==\"Barbados\"] #creates variable containing precipitation data for Barbados\n",
    "print(PrecipBarbados)"
   ]
  },
  {
   "source": [
    "Now we can save our new dataframes using the syntax > DataFrame.to_csv(\"newFilename.csv\")\n",
    "Of course as pandas can also export data frames in a number of other formats it is possible to save them as such as well. most of them follow the method format >to_extensiontype()."
   ],
   "cell_type": "markdown",
   "metadata": {}
  },
  {
   "cell_type": "code",
   "execution_count": 75,
   "metadata": {},
   "outputs": [],
   "source": [
    "Precip2009.to_csv(\"Precipitation_2009.csv\")\n",
    "PrecipBarbados.to_csv(\"Precipitation_Barbados.csv\")"
   ]
  },
  {
   "cell_type": "code",
   "execution_count": null,
   "metadata": {},
   "outputs": [],
   "source": []
  }
 ]
}